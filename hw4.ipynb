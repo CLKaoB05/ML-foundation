{
 "cells": [
  {
   "cell_type": "code",
   "execution_count": 1,
   "metadata": {},
   "outputs": [],
   "source": [
    "from liblinearutil import *\n",
    "import numpy as np\n",
    "import math"
   ]
  },
  {
   "cell_type": "code",
   "execution_count": 2,
   "metadata": {},
   "outputs": [],
   "source": [
    "def loadData (filename):\n",
    "    data = np.fromfile(filename,dtype = float,sep=' ')\n",
    "    return data\n",
    "\n",
    "def setData(filename):\n",
    "    A=loadData(filename)\n",
    "    N = A.size/7\n",
    "    xn = [[0]*7 for i in range(int(N))]\n",
    "    yn=[]\n",
    "    for i in range(A.size):\n",
    "        column = (int(i)+1)%7\n",
    "        row = int(i)//7\n",
    "        if column is not 0:\n",
    "            xn[row][column] = A[i]\n",
    "        else:\n",
    "            yn.append(A[i])\n",
    "    return yn,xn\n",
    "\n",
    "def setPhi(filename):\n",
    "    yn,xn = setData(filename)\n",
    "    phi = []\n",
    "    phi_temp = [1]*28\n",
    "    for i in range(len(xn)):\n",
    "        for j in range(len(xn[i])):\n",
    "            phi_temp[0]=1\n",
    "            phi_temp[j] = xn[i][j]\n",
    "            if int(j) == 1:\n",
    "                x1 = xn[i][j]\n",
    "                phi_temp[7] = x1*x1\n",
    "                phi_temp[8] = phi_temp[8]*x1\n",
    "                phi_temp[9] = phi_temp[9]*x1\n",
    "                phi_temp[10] = phi_temp[10]*x1\n",
    "                phi_temp[11] = phi_temp[11]*x1\n",
    "                phi_temp[12] = phi_temp[12]*x1\n",
    "            elif int(j) == 2:\n",
    "                x2 = xn[i][j]\n",
    "                phi_temp[13] = x2*x2\n",
    "                phi_temp[8] = phi_temp[8]*x2\n",
    "                phi_temp[14] = phi_temp[14]*x2\n",
    "                phi_temp[15] = phi_temp[15]*x2\n",
    "                phi_temp[16] = phi_temp[16]*x2\n",
    "                phi_temp[17] = phi_temp[17]*x2\n",
    "            elif int(j) == 3:\n",
    "                x3 = xn[i][j]\n",
    "                phi_temp[18] = x3*x3\n",
    "                phi_temp[9] = phi_temp[9]*x3\n",
    "                phi_temp[14] = phi_temp[14]*x3\n",
    "                phi_temp[19] = phi_temp[19]*x3\n",
    "                phi_temp[20] = phi_temp[20]*x3\n",
    "                phi_temp[21] = phi_temp[21]*x3\n",
    "            elif int(j) == 4:\n",
    "                x4 = xn[i][j]\n",
    "                phi_temp[22] = x4*x4\n",
    "                phi_temp[10] = phi_temp[10]*x4\n",
    "                phi_temp[15] = phi_temp[15]*x4\n",
    "                phi_temp[19] = phi_temp[19]*x4\n",
    "                phi_temp[23] = phi_temp[23]*x4\n",
    "                phi_temp[24] = phi_temp[24]*x4\n",
    "            elif int(j) == 5:\n",
    "                x5 = xn[i][j]\n",
    "                phi_temp[25] = x5*x5\n",
    "                phi_temp[11] = phi_temp[11]*x5\n",
    "                phi_temp[16] = phi_temp[16]*x5\n",
    "                phi_temp[20] = phi_temp[20]*x5\n",
    "                phi_temp[23] = phi_temp[23]*x5\n",
    "                phi_temp[26] = phi_temp[26]*x5\n",
    "            elif int(j) == 6:\n",
    "                x6 = xn[i][j]\n",
    "                phi_temp[27] = x6*x6\n",
    "                phi_temp[12] = phi_temp[12]*x6\n",
    "                phi_temp[17] = phi_temp[17]*x6\n",
    "                phi_temp[21] = phi_temp[21]*x6\n",
    "                phi_temp[24] = phi_temp[24]*x6\n",
    "                phi_temp[26] = phi_temp[26]*x6\n",
    "        phi.append(phi_temp)        \n",
    "        phi_temp = [1]*28\n",
    "    return yn,phi\n",
    "\n",
    "yn,phi = setPhi('hw4_test.dat')\n",
    "    "
   ]
  },
  {
   "cell_type": "code",
   "execution_count": 3,
   "metadata": {},
   "outputs": [],
   "source": [
    "trainData = setPhi('hw4_train.dat')\n",
    "y_train = trainData[0]\n",
    "phi_train = trainData[1]\n",
    "testData = setPhi('hw4_test.dat')\n",
    "y_test = testData[0]\n",
    "phi_test = testData[1]"
   ]
  },
  {
   "cell_type": "code",
   "execution_count": 4,
   "metadata": {},
   "outputs": [],
   "source": [
    "# question 16\n",
    "\n",
    "def getW(Lambda):\n",
    "    c = 1/(2*Lambda)   #due to the difference in library\n",
    "    prob = problem(y_train,phi_train)\n",
    "    param = parameter('-s 0 -c ' + str(c)+ ' -e 0.000001')\n",
    "    m = train(prob,param)\n",
    "    return m.get_decfun()[0]\n",
    "\n",
    "def correct(w,x,y):\n",
    "    \n",
    "    if (np.dot(w,x)* y > 0):\n",
    "        return 0\n",
    "    else:\n",
    "        return 1\n",
    "\n",
    "def calEout(w):\n",
    "    error = 0\n",
    "    for i in range(len(phi_test)):\n",
    "         error = error +correct(w,phi_test[i],y_test[i])\n",
    "    error = error/len(phi_test)\n",
    "    return error\n",
    "\n"
   ]
  },
  {
   "cell_type": "code",
   "execution_count": 5,
   "metadata": {},
   "outputs": [
    {
     "name": "stdout",
     "output_type": "stream",
     "text": [
      "lambda = 10^-4, Eout = 0.13333333333333333\n",
      "lambda = 10^-2, Eout = 0.13\n",
      "lambda = 10^-0, Eout = 0.19333333333333333\n",
      "lambda = 10^2, Eout = 0.25666666666666665\n",
      "lambda = 10^4, Eout = 0.48333333333333334\n"
     ]
    }
   ],
   "source": [
    "w = getW(0.0001)\n",
    "print('lambda = 10^-4, Eout = '+str(calEout(w)))\n",
    "w = getW(0.01)\n",
    "print('lambda = 10^-2, Eout = '+str(calEout(w)))\n",
    "w = getW(1)\n",
    "print('lambda = 10^-0, Eout = '+str(calEout(w)))\n",
    "w = getW(100)\n",
    "print('lambda = 10^2, Eout = '+str(calEout(w)))\n",
    "w = getW(10000)\n",
    "print('lambda = 10^4, Eout = '+str(calEout(w)))"
   ]
  },
  {
   "cell_type": "code",
   "execution_count": 6,
   "metadata": {},
   "outputs": [],
   "source": [
    "#17\n",
    "def calEin(w):\n",
    "    error = 0\n",
    "    for i in range(len(phi_train)):\n",
    "         error = error +correct(w,phi_train[i],y_train[i])\n",
    "    error = error/len(phi_train)\n",
    "    return error\n"
   ]
  },
  {
   "cell_type": "code",
   "execution_count": 7,
   "metadata": {},
   "outputs": [
    {
     "name": "stdout",
     "output_type": "stream",
     "text": [
      "lambda = 10^-4, Ein = 0.09\n",
      "lambda = 10^-2, Ein = 0.1\n",
      "lambda = 10^-0, Ein = 0.13\n",
      "lambda = 10^2, Ein = 0.195\n",
      "lambda = 10^4, Ein = 0.535\n"
     ]
    }
   ],
   "source": [
    "w = getW(0.0001)\n",
    "print('lambda = 10^-4, Ein = '+str(calEin(w)))\n",
    "w = getW(0.01)\n",
    "print('lambda = 10^-2, Ein = '+str(calEin(w)))\n",
    "w = getW(1)\n",
    "print('lambda = 10^-0, Ein = '+str(calEin(w)))\n",
    "w = getW(100)\n",
    "print('lambda = 10^2, Ein = '+str(calEin(w)))\n",
    "w = getW(10000)\n",
    "print('lambda = 10^4, Ein = '+str(calEin(w)))"
   ]
  },
  {
   "cell_type": "code",
   "execution_count": 8,
   "metadata": {},
   "outputs": [],
   "source": [
    "#18\n",
    "def getWval(Lambda):\n",
    "    c = 1/(2*Lambda)   #due to the difference in library\n",
    "    prob = problem(y_train[0:120],phi_train[0:120])\n",
    "    param = parameter('-s 0 -c ' + str(c)+ ' -e 0.000001')\n",
    "    m = train(prob,param)\n",
    "    return m.get_decfun()[0]\n",
    "\n",
    "def calEval(w):\n",
    "    error = 0\n",
    "    for i in range(80):\n",
    "        i = i+120\n",
    "        error = error +correct(w,phi_train[i],y_train[i])\n",
    "    error = error/80\n",
    "    return error\n"
   ]
  },
  {
   "cell_type": "code",
   "execution_count": 9,
   "metadata": {},
   "outputs": [
    {
     "name": "stdout",
     "output_type": "stream",
     "text": [
      "lambda = 10^-4, Eval = 0.2\n",
      "lambda = 10^-2, Eval = 0.1375\n",
      "lambda = 10^-0, Eval = 0.2375\n",
      "lambda = 10^2, Eval = 0.2625\n",
      "lambda = 10^4, Eval = 0.575\n"
     ]
    }
   ],
   "source": [
    "w = getWval(0.0001)\n",
    "print('lambda = 10^-4, Eval = '+str(calEval(w)))\n",
    "w = getWval(0.01)\n",
    "print('lambda = 10^-2, Eval = '+str(calEval(w)))\n",
    "w = getWval(1)\n",
    "print('lambda = 10^-0, Eval = '+str(calEval(w)))\n",
    "w = getWval(100)\n",
    "print('lambda = 10^2, Eval = '+str(calEval(w)))\n",
    "w = getWval(10000)\n",
    "print('lambda = 10^4, Eval = '+str(calEval(w)))"
   ]
  },
  {
   "cell_type": "code",
   "execution_count": 10,
   "metadata": {},
   "outputs": [
    {
     "name": "stdout",
     "output_type": "stream",
     "text": [
      "lambda = 10^-2, Eout(w-) = 0.14333333333333334\n"
     ]
    }
   ],
   "source": [
    "#lambda = 0.01 is the best lambda\n",
    "w = getWval(0.01)\n",
    "print('lambda = 10^-2, Eout(w-) = '+str(calEout(w)))"
   ]
  },
  {
   "cell_type": "code",
   "execution_count": 11,
   "metadata": {},
   "outputs": [
    {
     "name": "stdout",
     "output_type": "stream",
     "text": [
      "lambda = 10^-2, Eout(w-) = 0.13\n"
     ]
    }
   ],
   "source": [
    "#19\n",
    "w = getW(0.01)\n",
    "print('lambda = 10^-2, Eout(w-) = '+str(calEout(w)))"
   ]
  },
  {
   "cell_type": "code",
   "execution_count": 12,
   "metadata": {},
   "outputs": [],
   "source": [
    "#20\n",
    "def getWfold(Lambda,fold):\n",
    "    if fold == 0:\n",
    "        c = 1/(2*Lambda)   #due to the difference in library\n",
    "        prob = problem(y_train[40:200],phi_train[40:200])\n",
    "        param = parameter('-s 0 -c ' + str(c)+ ' -e 0.000001')\n",
    "        m = train(prob,param)\n",
    "        return m.get_decfun()[0]\n",
    "    \n",
    "    if fold == 1:\n",
    "        c = 1/(2*Lambda)   #due to the difference in library\n",
    "        prob = problem(y_train[0:40]+y_train[80:200],phi_train[0:40]+phi_train[80:200])\n",
    "        param = parameter('-s 0 -c ' + str(c)+ ' -e 0.000001')\n",
    "        m = train(prob,param)\n",
    "        return m.get_decfun()[0]\n",
    "    if fold == 2:\n",
    "        c = 1/(2*Lambda)   #due to the difference in library\n",
    "        prob = problem(y_train[0:80]+y_train[120:200],phi_train[0:80]+phi_train[120:200])\n",
    "        param = parameter('-s 0 -c ' + str(c)+ ' -e 0.000001')\n",
    "        m = train(prob,param)\n",
    "        return m.get_decfun()[0]\n",
    "    if fold == 3:\n",
    "        c = 1/(2*Lambda)   #due to the difference in library\n",
    "        prob = problem(y_train[0:120]+y_train[160:200],phi_train[0:120]+phi_train[160:200])\n",
    "        param = parameter('-s 0 -c ' + str(c)+ ' -e 0.000001')\n",
    "        m = train(prob,param)\n",
    "        return m.get_decfun()[0]\n",
    "    if fold == 4:\n",
    "        c = 1/(2*Lambda)   #due to the difference in library\n",
    "        prob = problem(y_train[0:160],phi_train[0:160])\n",
    "        param = parameter('-s 0 -c ' + str(c)+ ' -e 0.000001')\n",
    "        m = train(prob,param)\n",
    "        return m.get_decfun()[0]\n",
    "def calEv(w,fold):\n",
    "    if fold == 0:\n",
    "        error = 0\n",
    "        for i in range(40):\n",
    "            error = error +correct(w,phi_train[i],y_train[i])\n",
    "        error = error/40\n",
    "        return error\n",
    "    if fold == 1:\n",
    "        error = 0\n",
    "        for i in range(40):\n",
    "            i = i + 40\n",
    "            error = error +correct(w,phi_train[i],y_train[i])\n",
    "        error = error/40\n",
    "        return error\n",
    "    if fold == 2:\n",
    "        error = 0\n",
    "        for i in range(40):\n",
    "            i = i + 80\n",
    "            error = error +correct(w,phi_train[i],y_train[i])\n",
    "        error = error/40\n",
    "        return error\n",
    "    if fold == 3:\n",
    "        error = 0\n",
    "        for i in range(40):\n",
    "            i = i + 120\n",
    "            error = error +correct(w,phi_train[i],y_train[i])\n",
    "        error = error/40\n",
    "        return error\n",
    "    if fold == 4:\n",
    "        error = 0\n",
    "        for i in range(40):\n",
    "            i = i + 160\n",
    "            error = error +correct(w,phi_train[i],y_train[i])\n",
    "        error = error/40\n",
    "        return error\n",
    "\n",
    "def calEcv(Lambda):\n",
    "    Ecv = 0\n",
    "    for i in range(5):\n",
    "        wfold = getWfold(Lambda,int(i))\n",
    "        Ecv = Ecv + calEv(wfold,i)\n",
    "    Ecv = Ecv / 5\n",
    "    return Ecv\n",
    "    "
   ]
  },
  {
   "cell_type": "code",
   "execution_count": 13,
   "metadata": {},
   "outputs": [
    {
     "name": "stdout",
     "output_type": "stream",
     "text": [
      "lambda = 10^-4, Eval = 0.145\n",
      "lambda = 10^-2, Eval = 0.12\n",
      "lambda = 10^-0, Eval = 0.15500000000000003\n",
      "lambda = 10^2, Eval = 0.18\n",
      "lambda = 10^4, Eval = 0.5199999999999999\n"
     ]
    }
   ],
   "source": [
    "print('lambda = 10^-4, Eval = '+str(calEcv(0.0001)))\n",
    "\n",
    "print('lambda = 10^-2, Eval = '+str(calEcv(0.01)))\n",
    "\n",
    "print('lambda = 10^-0, Eval = '+str(calEcv(1)))\n",
    "\n",
    "print('lambda = 10^2, Eval = '+str(calEcv(100)))\n",
    "\n",
    "print('lambda = 10^4, Eval = '+str(calEcv(10000)))\n"
   ]
  },
  {
   "cell_type": "code",
   "execution_count": null,
   "metadata": {},
   "outputs": [],
   "source": []
  }
 ],
 "metadata": {
  "kernelspec": {
   "display_name": "Python 3",
   "language": "python",
   "name": "python3"
  },
  "language_info": {
   "codemirror_mode": {
    "name": "ipython",
    "version": 3
   },
   "file_extension": ".py",
   "mimetype": "text/x-python",
   "name": "python",
   "nbconvert_exporter": "python",
   "pygments_lexer": "ipython3",
   "version": "3.6.9"
  }
 },
 "nbformat": 4,
 "nbformat_minor": 4
}
